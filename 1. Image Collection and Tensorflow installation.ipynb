{
 "cells": [
  {
   "cell_type": "markdown",
   "metadata": {},
   "source": [
    "# 1. Import Dependencies"
   ]
  },
  {
   "cell_type": "code",
   "execution_count": null,
   "metadata": {},
   "outputs": [],
   "source": [
    "!pip install opencv-python"
   ]
  },
  {
   "cell_type": "code",
   "execution_count": null,
   "metadata": {},
   "outputs": [],
   "source": [
    "# Import opencv\n",
    "import cv2 \n",
    "\n",
    "# Import uuid\n",
    "import uuid\n",
    "\n",
    "# Import Operating System\n",
    "import os\n",
    "\n",
    "# Import time\n",
    "import time"
   ]
  },
  {
   "cell_type": "markdown",
   "metadata": {},
   "source": [
    "# 2. Setup Image Folders "
   ]
  },
  {
   "cell_type": "code",
   "execution_count": null,
   "metadata": {},
   "outputs": [],
   "source": [
    "paths_images = {\n",
    "    'COLLECTED_IMAGES_PATH' : os.path.join('Tensorflow', 'workspace', 'images', 'collectedimages'),\n",
    "    'TRAIN_IMAGES_PATH' : os.path.join('Tensorflow', 'workspace', 'images', 'train'),\n",
    "    'TEST_IMAGES_PATH' : os.path.join('Tensorflow', 'workspace', 'images', 'test')\n",
    "}"
   ]
  },
  {
   "cell_type": "code",
   "execution_count": null,
   "metadata": {},
   "outputs": [],
   "source": [
    "for path in paths_images.values():\n",
    "    if not os.path.exists(path):\n",
    "        if os.name == 'posix':\n",
    "            !mkdir -p {path}\n",
    "        if os.name == 'nt':\n",
    "            !mkdir {path}"
   ]
  },
  {
   "cell_type": "markdown",
   "metadata": {},
   "source": [
    "Move test and train images into folders"
   ]
  },
  {
   "cell_type": "markdown",
   "metadata": {},
   "source": [
    "# 3. Setup Model Folders"
   ]
  },
  {
   "cell_type": "code",
   "execution_count": null,
   "metadata": {},
   "outputs": [],
   "source": [
    "import os"
   ]
  },
  {
   "cell_type": "code",
   "execution_count": null,
   "metadata": {},
   "outputs": [],
   "source": [
    "CUSTOM_MODEL_NAME_LIST = [\n",
    "    'my_ssd_mobnet',\n",
    "    'centernet_hg104_512x512',\n",
    "    'centernet_hg104_1024x1024',\n",
    "    'centernet_resnet50_v1_fpn_512x512',\n",
    "    'centernet_resnet101_v1_fpn_512x512',\n",
    "    'centernet_resnet50_v2_512x512',\n",
    "    'centernet_mobilenetv2fpn_512x512',\n",
    "    'efficientdet_d0',\n",
    "    'efficientdet_d1',\n",
    "    'efficientdet_d2',\n",
    "    'efficientdet_d3',\n",
    "    'efficientdet_d4',\n",
    "    'efficientdet_d5',\n",
    "    'efficientdet_d6',\n",
    "    'efficientdet_d7',\n",
    "    'ssd_mobilenet_v2_320x320',\n",
    "    'ssd_mobilenet_v1_fpn_640x640',\n",
    "    'ssd_mobilenet_v2_fpnlite_320x320',\n",
    "    'ssd_mobilenet_v2_fpnlite_640x640',\n",
    "    'ssd_resnet50_v1_fpn_640x640',\n",
    "    'ssd_resnet50_v1_fpn_1024x1024',\n",
    "    'ssd_resnet101_v1_fpn_640x640',\n",
    "    'ssd_resnet101_v1_fpn_1024x1024',\n",
    "    'ssd_resnet152_v1_fpn_640x640',\n",
    "    'ssd_resnet152_v1_fpn_1024x1024',\n",
    "    'faster_rcnn_resnet50_v1_640x640',\n",
    "    'faster_rcnn_resnet50_v1_1024x1024',\n",
    "    'faster_rcnn_resnet50_v1_800x1333',\n",
    "    'faster_rcnn_resnet101_v1_640x640',\n",
    "    'faster_rcnn_resnet101_v1_1024x1024',\n",
    "    'faster_rcnn_resnet101_v1_800x1333',\n",
    "    'faster_rcnn_resnet152_v1_640x640',\n",
    "    'faster_rcnn_resnet152_v1_1024x1024',\n",
    "    'faster_rcnn_resnet152_v1_800x1333',\n",
    "    'faster_rcnn_inception_resnet_v2_640x640',\n",
    "    'faster_rcnn_inception_resnet_v2_1024x1024'\n",
    "]"
   ]
  },
  {
   "cell_type": "code",
   "execution_count": null,
   "metadata": {},
   "outputs": [],
   "source": [
    "PRETRAINED_MODEL_NAME_LIST = [\n",
    "    'ssd_mobilenet_v2_fpnlite_320x320_coco17_tpu-8',\n",
    "    'centernet_hg104_512x512_coco17_tpu-8',\n",
    "    'centernet_hg104_1024x1024_coco17_tpu-32',\n",
    "    'centernet_resnet50_v1_fpn_512x512_coco17_tpu-8',\n",
    "    'centernet_resnet101_v1_fpn_512x512_coco17_tpu-8',\n",
    "    'centernet_resnet50_v2_512x512_coco17_tpu-8',\n",
    "    'centernet_mobilenetv2fpn_512x512_coco17_od',\n",
    "    'efficientdet_d0_coco17_tpu-32',\n",
    "    'efficientdet_d1_coco17_tpu-32',\n",
    "    'efficientdet_d2_coco17_tpu-32',\n",
    "    'efficientdet_d3_coco17_tpu-32',\n",
    "    'efficientdet_d4_coco17_tpu-32',\n",
    "    'efficientdet_d5_coco17_tpu-32',\n",
    "    'efficientdet_d6_coco17_tpu-32',\n",
    "    'efficientdet_d7_coco17_tpu-32',\n",
    "    'ssd_mobilenet_v2_320x320_coco17_tpu-8',\n",
    "    'ssd_mobilenet_v1_fpn_640x640_coco17_tpu-8',\n",
    "    'ssd_mobilenet_v2_fpnlite_320x320_coco17_tpu-8',\n",
    "    'ssd_mobilenet_v2_fpnlite_640x640_coco17_tpu-8',\n",
    "    'ssd_resnet50_v1_fpn_640x640_coco17_tpu-8',\n",
    "    'ssd_resnet50_v1_fpn_1024x1024_coco17_tpu-8',\n",
    "    'ssd_resnet101_v1_fpn_640x640_coco17_tpu-8',\n",
    "    'ssd_resnet101_v1_fpn_1024x1024_coco17_tpu-8',\n",
    "    'ssd_resnet152_v1_fpn_640x640_coco17_tpu-8',\n",
    "    'ssd_resnet152_v1_fpn_1024x1024_coco17_tpu-8',\n",
    "    'faster_rcnn_resnet50_v1_640x640_coco17_tpu-8',\n",
    "    'faster_rcnn_resnet50_v1_1024x1024_coco17_tpu-8',\n",
    "    'faster_rcnn_resnet50_v1_800x1333_coco17_gpu-8',\n",
    "    'faster_rcnn_resnet101_v1_640x640_coco17_tpu-8',\n",
    "    'faster_rcnn_resnet101_v1_1024x1024_coco17_tpu-8',\n",
    "    'faster_rcnn_resnet101_v1_800x1333_coco17_gpu-8',\n",
    "    'faster_rcnn_resnet152_v1_640x640_coco17_tpu-8',\n",
    "    'faster_rcnn_resnet152_v1_1024x1024_coco17_tpu-8',\n",
    "    'faster_rcnn_resnet152_v1_800x1333_coco17_gpu-8',\n",
    "    'faster_rcnn_inception_resnet_v2_640x640_coco17_tpu-8',\n",
    "    'faster_rcnn_inception_resnet_v2_1024x1024_coco17_tpu-8',\n",
    "]"
   ]
  },
  {
   "cell_type": "code",
   "execution_count": null,
   "metadata": {},
   "outputs": [],
   "source": [
    "PRETRAINED_MODEL_URL_LIST = [\n",
    "    'http://download.tensorflow.org/models/object_detection/tf2/20200711/ssd_mobilenet_v2_fpnlite_320x320_coco17_tpu-8.tar.gz', \n",
    "    'http://download.tensorflow.org/models/object_detection/tf2/20200713/centernet_hg104_512x512_coco17_tpu-8.tar.gz',\n",
    "    'http://download.tensorflow.org/models/object_detection/tf2/20200713/centernet_hg104_1024x1024_coco17_tpu-32.tar.gz',\n",
    "    'http://download.tensorflow.org/models/object_detection/tf2/20200711/centernet_resnet50_v1_fpn_512x512_coco17_tpu-8.tar.gz',\n",
    "    'http://download.tensorflow.org/models/object_detection/tf2/20200711/centernet_resnet101_v1_fpn_512x512_coco17_tpu-8.tar.gz',\n",
    "    'http://download.tensorflow.org/models/object_detection/tf2/20200711/centernet_resnet50_v2_512x512_coco17_tpu-8.tar.gz',\n",
    "    'http://download.tensorflow.org/models/object_detection/tf2/20210210/centernet_mobilenetv2fpn_512x512_coco17_od.tar.gz',\n",
    "    'http://download.tensorflow.org/models/object_detection/tf2/20200711/efficientdet_d0_coco17_tpu-32.tar.gz',\n",
    "    'http://download.tensorflow.org/models/object_detection/tf2/20200711/efficientdet_d1_coco17_tpu-32.tar.gz',\n",
    "    'http://download.tensorflow.org/models/object_detection/tf2/20200711/efficientdet_d2_coco17_tpu-32.tar.gz',\n",
    "    'http://download.tensorflow.org/models/object_detection/tf2/20200711/efficientdet_d3_coco17_tpu-32.tar.gz',\n",
    "    'http://download.tensorflow.org/models/object_detection/tf2/20200711/efficientdet_d4_coco17_tpu-32.tar.gz',\n",
    "    'http://download.tensorflow.org/models/object_detection/tf2/20200711/efficientdet_d5_coco17_tpu-32.tar.gz',\n",
    "    'http://download.tensorflow.org/models/object_detection/tf2/20200711/efficientdet_d6_coco17_tpu-32.tar.gz',\n",
    "    'http://download.tensorflow.org/models/object_detection/tf2/20200711/efficientdet_d7_coco17_tpu-32.tar.gz',\n",
    "    'http://download.tensorflow.org/models/object_detection/tf2/20200711/ssd_mobilenet_v2_320x320_coco17_tpu-8.tar.gz',\n",
    "    'http://download.tensorflow.org/models/object_detection/tf2/20200711/ssd_mobilenet_v1_fpn_640x640_coco17_tpu-8.tar.gz',\n",
    "    'http://download.tensorflow.org/models/object_detection/tf2/20200711/ssd_mobilenet_v2_fpnlite_320x320_coco17_tpu-8.tar.gz',\n",
    "    'http://download.tensorflow.org/models/object_detection/tf2/20200711/ssd_mobilenet_v2_fpnlite_640x640_coco17_tpu-8.tar.gz',\n",
    "    'http://download.tensorflow.org/models/object_detection/tf2/20200711/ssd_resnet50_v1_fpn_640x640_coco17_tpu-8.tar.gz',\n",
    "    'http://download.tensorflow.org/models/object_detection/tf2/20200711/ssd_resnet50_v1_fpn_1024x1024_coco17_tpu-8.tar.gz',\n",
    "    'http://download.tensorflow.org/models/object_detection/tf2/20200711/ssd_resnet101_v1_fpn_640x640_coco17_tpu-8.tar.gz',\n",
    "    'http://download.tensorflow.org/models/object_detection/tf2/20200711/ssd_resnet101_v1_fpn_1024x1024_coco17_tpu-8.tar.gz',\n",
    "    'http://download.tensorflow.org/models/object_detection/tf2/20200711/ssd_resnet152_v1_fpn_640x640_coco17_tpu-8.tar.gz',\n",
    "    'http://download.tensorflow.org/models/object_detection/tf2/20200711/ssd_resnet152_v1_fpn_1024x1024_coco17_tpu-8.tar.gz',\n",
    "    'http://download.tensorflow.org/models/object_detection/tf2/20200711/faster_rcnn_resnet50_v1_640x640_coco17_tpu-8.tar.gz',\n",
    "    'http://download.tensorflow.org/models/object_detection/tf2/20200711/faster_rcnn_resnet50_v1_1024x1024_coco17_tpu-8.tar.gz',\n",
    "    'http://download.tensorflow.org/models/object_detection/tf2/20200711/faster_rcnn_resnet50_v1_800x1333_coco17_gpu-8.tar.gz',\n",
    "    'http://download.tensorflow.org/models/object_detection/tf2/20200711/faster_rcnn_resnet101_v1_640x640_coco17_tpu-8.tar.gz',\n",
    "    'http://download.tensorflow.org/models/object_detection/tf2/20200711/faster_rcnn_resnet101_v1_1024x1024_coco17_tpu-8.tar.gz',\n",
    "    'http://download.tensorflow.org/models/object_detection/tf2/20200711/faster_rcnn_resnet101_v1_800x1333_coco17_gpu-8.tar.gz',\n",
    "    'http://download.tensorflow.org/models/object_detection/tf2/20200711/faster_rcnn_resnet152_v1_640x640_coco17_tpu-8.tar.gz',\n",
    "    'http://download.tensorflow.org/models/object_detection/tf2/20200711/faster_rcnn_resnet152_v1_1024x1024_coco17_tpu-8.tar.gz',\n",
    "    'http://download.tensorflow.org/models/object_detection/tf2/20200711/faster_rcnn_resnet152_v1_800x1333_coco17_gpu-8.tar.gz',\n",
    "    'http://download.tensorflow.org/models/object_detection/tf2/20200711/faster_rcnn_inception_resnet_v2_640x640_coco17_tpu-8.tar.gz',\n",
    "    'http://download.tensorflow.org/models/object_detection/tf2/20200711/faster_rcnn_inception_resnet_v2_1024x1024_coco17_tpu-8.tar.gz',\n",
    "]"
   ]
  },
  {
   "cell_type": "code",
   "execution_count": null,
   "metadata": {},
   "outputs": [],
   "source": [
    "i=0\n",
    "CUSTOM_MODEL_NAME =  CUSTOM_MODEL_NAME_LIST[0]\n",
    "PRETRAINED_MODEL_NAME = PRETRAINED_MODEL_NAME_LIST[0]\n",
    "PRETRAINED_MODEL_URL = PRETRAINED_MODEL_URL_LIST[0]\n",
    "TF_RECORD_SCRIPT_NAME = 'generate_tfrecord.py'\n",
    "LABEL_MAP_NAME = 'label_map.pbtxt'"
   ]
  },
  {
   "cell_type": "code",
   "execution_count": null,
   "metadata": {},
   "outputs": [],
   "source": [
    "paths = {\n",
    "    'WORKSPACE_PATH': os.path.join('Tensorflow', 'workspace'),\n",
    "    'SCRIPTS_PATH': os.path.join('Tensorflow','scripts'),\n",
    "    'APIMODEL_PATH': os.path.join('Tensorflow','models'),\n",
    "    'ANNOTATION_PATH': os.path.join('Tensorflow', 'workspace','annotations'),\n",
    "    'IMAGE_PATH': os.path.join('Tensorflow', 'workspace','images'),\n",
    "    'MODEL_PATH': os.path.join('Tensorflow', 'workspace','models'),\n",
    "    'PRETRAINED_MODEL_PATH': os.path.join('Tensorflow', 'workspace','pre-trained-models'),\n",
    "    'CHECKPOINT_PATH': os.path.join('Tensorflow', 'workspace','models',CUSTOM_MODEL_NAME), \n",
    "    'OUTPUT_PATH': os.path.join('Tensorflow', 'workspace','models',CUSTOM_MODEL_NAME, 'export'), \n",
    "    'TFJS_PATH':os.path.join('Tensorflow', 'workspace','models',CUSTOM_MODEL_NAME, 'tfjsexport'), \n",
    "    'TFLITE_PATH':os.path.join('Tensorflow', 'workspace','models',CUSTOM_MODEL_NAME, 'tfliteexport'), \n",
    "    'PROTOC_PATH':os.path.join('Tensorflow','protoc')\n",
    " }"
   ]
  },
  {
   "cell_type": "code",
   "execution_count": null,
   "metadata": {},
   "outputs": [],
   "source": [
    "files = {\n",
    "    'PIPELINE_CONFIG':os.path.join('Tensorflow', 'workspace','models', CUSTOM_MODEL_NAME, 'pipeline.config'),\n",
    "    'TF_RECORD_SCRIPT': os.path.join(paths['SCRIPTS_PATH'], TF_RECORD_SCRIPT_NAME), \n",
    "    'LABELMAP': os.path.join(paths['ANNOTATION_PATH'], LABEL_MAP_NAME)\n",
    "}"
   ]
  },
  {
   "cell_type": "code",
   "execution_count": null,
   "metadata": {},
   "outputs": [],
   "source": [
    "for path in paths.values():\n",
    "    if not os.path.exists(path):\n",
    "        if os.name == 'posix':\n",
    "            !mkdir -p {path}\n",
    "        if os.name == 'nt':\n",
    "            !mkdir {path}"
   ]
  },
  {
   "cell_type": "markdown",
   "metadata": {},
   "source": [
    "# 4. Install TFOD"
   ]
  },
  {
   "cell_type": "code",
   "execution_count": null,
   "metadata": {},
   "outputs": [],
   "source": [
    "if os.name=='nt':\n",
    "    !pip install wget\n",
    "    import wget"
   ]
  },
  {
   "cell_type": "code",
   "execution_count": null,
   "metadata": {},
   "outputs": [],
   "source": [
    "!pip install tensorflow==2.10.0"
   ]
  },
  {
   "cell_type": "code",
   "execution_count": null,
   "metadata": {},
   "outputs": [],
   "source": [
    "!pip uninstall protobuf matplotlib -y\n",
    "!pip install protobuf==3.20.0 matplotlib==3.2"
   ]
  },
  {
   "cell_type": "code",
   "execution_count": null,
   "metadata": {},
   "outputs": [],
   "source": [
    "!pip install pyyaml"
   ]
  },
  {
   "cell_type": "code",
   "execution_count": null,
   "metadata": {},
   "outputs": [],
   "source": [
    "if not os.path.exists(os.path.join(paths['APIMODEL_PATH'], 'research', 'object_detection')):\n",
    "    !git clone https://github.com/tensorflow/models {paths['APIMODEL_PATH']}"
   ]
  },
  {
   "cell_type": "code",
   "execution_count": null,
   "metadata": {},
   "outputs": [],
   "source": [
    "# Install Tensorflow Object Detection \n",
    "if os.name=='posix':  \n",
    "    !apt-get install protobuf-compiler\n",
    "    !cd Tensorflow/models/research && protoc object_detection/protos/*.proto --python_out=. && cp object_detection/packages/tf2/setup.py . && python -m pip install . \n",
    "    \n",
    "if os.name=='nt':\n",
    "    url=\"https://github.com/protocolbuffers/protobuf/releases/download/v3.15.6/protoc-3.15.6-win64.zip\"\n",
    "    wget.download(url)\n",
    "    !move protoc-3.15.6-win64.zip {paths['PROTOC_PATH']}\n",
    "    !cd {paths['PROTOC_PATH']} && tar -xf protoc-3.15.6-win64.zip\n",
    "    os.environ['PATH'] += os.pathsep + os.path.abspath(os.path.join(paths['PROTOC_PATH'], 'bin'))   \n",
    "    !cd Tensorflow/models/research && protoc object_detection/protos/*.proto --python_out=. && copy object_detection\\\\packages\\\\tf2\\\\setup.py setup.py && python setup.py build && python setup.py install\n",
    "    !cd Tensorflow/models/research/slim && pip install -e . "
   ]
  },
  {
   "cell_type": "code",
   "execution_count": null,
   "metadata": {},
   "outputs": [],
   "source": [
    "VERIFICATION_SCRIPT = os.path.join(paths['APIMODEL_PATH'], 'research', 'object_detection', 'builders', 'model_builder_tf2_test.py')\n",
    "# Verify Installation\n",
    "!python {VERIFICATION_SCRIPT}"
   ]
  },
  {
   "cell_type": "code",
   "execution_count": null,
   "metadata": {},
   "outputs": [],
   "source": []
  },
  {
   "cell_type": "code",
   "execution_count": null,
   "metadata": {},
   "outputs": [],
   "source": []
  }
 ],
 "metadata": {
  "kernelspec": {
   "display_name": "tfod",
   "language": "python",
   "name": "tfod"
  },
  "language_info": {
   "codemirror_mode": {
    "name": "ipython",
    "version": 3
   },
   "file_extension": ".py",
   "mimetype": "text/x-python",
   "name": "python",
   "nbconvert_exporter": "python",
   "pygments_lexer": "ipython3",
   "version": "3.9.18"
  }
 },
 "nbformat": 4,
 "nbformat_minor": 2
}
